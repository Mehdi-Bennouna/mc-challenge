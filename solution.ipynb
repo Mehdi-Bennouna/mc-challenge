{
 "cells": [
  {
   "attachments": {},
   "cell_type": "markdown",
   "metadata": {},
   "source": [
    "# Data\n",
    "i : input string\n",
    "\n",
    "symbols : base roman numerals"
   ]
  },
  {
   "cell_type": "code",
   "execution_count": 1,
   "metadata": {},
   "outputs": [],
   "source": [
    "i = \"1100 since V/III/DCCLXXIV\"\n",
    "symbols = {\"I\": 1, \"V\": 5, \"X\": 10, \"L\": 50, \"C\": 100, \"D\": 500, \"M\": 1000}"
   ]
  },
  {
   "attachments": {},
   "cell_type": "markdown",
   "metadata": {},
   "source": [
    "# Decoding\n",
    "Part one: we split every number to base operation either normal addition or substraction\n",
    "\n",
    "Part two: summs the values we got on the previous step\n"
   ]
  },
  {
   "cell_type": "code",
   "execution_count": 2,
   "metadata": {},
   "outputs": [],
   "source": [
    "def decode(input_number):\n",
    "    splited = []\n",
    "    buffer = input_number[0]\n",
    "\n",
    "    # Part one\n",
    "    for character in input_number[1:]:\n",
    "        if symbols[character] <= symbols[buffer[-1]]:\n",
    "            splited.append(buffer)\n",
    "            buffer = character\n",
    "        else:\n",
    "            buffer += character\n",
    "\n",
    "    splited.append(buffer)\n",
    "\n",
    "    # Part two\n",
    "    decoded = 0\n",
    "    for element in splited:\n",
    "        if len(element) == 1:\n",
    "            decoded += symbols[element]\n",
    "        else:\n",
    "            for character in element[:-1]:\n",
    "                decoded -= symbols[character]\n",
    "            decoded += symbols[element[-1]]\n",
    "\n",
    "    return str(decoded)\n"
   ]
  },
  {
   "attachments": {},
   "cell_type": "markdown",
   "metadata": {},
   "source": [
    "# Process"
   ]
  },
  {
   "cell_type": "code",
   "execution_count": 3,
   "metadata": {},
   "outputs": [
    {
     "name": "stdout",
     "output_type": "stream",
     "text": [
      "1100 since 5/3/774\n"
     ]
    }
   ],
   "source": [
    "number_list = i[11:].split(\"/\")\n",
    "output = []\n",
    "\n",
    "for number in number_list:\n",
    "    output.append(decode(number))\n",
    "\n",
    "print(\"1100 since \" + \"/\".join(output))\n"
   ]
  }
 ],
 "metadata": {
  "kernelspec": {
   "display_name": "Python 3",
   "language": "python",
   "name": "python3"
  },
  "language_info": {
   "codemirror_mode": {
    "name": "ipython",
    "version": 3
   },
   "file_extension": ".py",
   "mimetype": "text/x-python",
   "name": "python",
   "nbconvert_exporter": "python",
   "pygments_lexer": "ipython3",
   "version": "3.11.0rc1"
  },
  "orig_nbformat": 4
 },
 "nbformat": 4,
 "nbformat_minor": 2
}
